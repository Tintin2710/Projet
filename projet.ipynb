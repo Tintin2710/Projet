{
 "cells": [
  {
   "cell_type": "code",
   "execution_count": 1,
   "metadata": {},
   "outputs": [],
   "source": [
    "import math\n",
    "from Bio.PDB import PDBParser\n",
    "from Bio.PDB.DSSP import DSSP"
   ]
  },
  {
   "cell_type": "markdown",
   "metadata": {},
   "source": [
    "1 Lecture des informations structurelles d'un fichier PDB"
   ]
  },
  {
   "cell_type": "code",
   "execution_count": 2,
   "metadata": {},
   "outputs": [],
   "source": [
    "def read_pdb_structure(file_name):\n",
    "    parser = PDBParser()\n",
    "    structure = parser.get_structure(\"proteine\", file_name)\n",
    "    return structure\n",
    "\n"
   ]
  },
  {
   "cell_type": "code",
   "execution_count": 3,
   "metadata": {},
   "outputs": [
    {
     "name": "stderr",
     "output_type": "stream",
     "text": [
      "/home/haiding/.local/lib/python3.12/site-packages/Bio/PDB/StructureBuilder.py:100: PDBConstructionWarning: WARNING: Chain A is discontinuous at line 1250.\n",
      "  warnings.warn(\n",
      "/home/haiding/.local/lib/python3.12/site-packages/Bio/PDB/StructureBuilder.py:100: PDBConstructionWarning: WARNING: Chain X is discontinuous at line 1381.\n",
      "  warnings.warn(\n"
     ]
    }
   ],
   "source": [
    "from Bio.PDB.DSSP import DSSP\n",
    "from Bio import PDB\n",
    "parser = PDBParser()\n",
    "structure = parser.get_structure(\"2v5f\", \"2v5f.pdb\")\n",
    "\n"
   ]
  },
  {
   "cell_type": "code",
   "execution_count": 4,
   "metadata": {},
   "outputs": [
    {
     "name": "stdout",
     "output_type": "stream",
     "text": [
      "[{'residue': <Residue PHE het=  resseq=144 icode= >, 'N': <Vector 12.31, 27.63, 6.60>, 'CA': <Vector 11.50, 26.56, 5.94>, 'C': <Vector 11.72, 25.20, 6.59>, 'O': <Vector 12.83, 24.67, 6.62>}, {'residue': <Residue LEU het=  resseq=145 icode= >, 'N': <Vector 10.64, 24.66, 7.14>, 'CA': <Vector 10.67, 23.33, 7.76>, 'C': <Vector 10.54, 22.29, 6.68>, 'O': <Vector 9.59, 22.25, 5.91>}, {'residue': <Residue THR het=  resseq=146 icode= >, 'N': <Vector 11.51, 21.41, 6.68>, 'CA': <Vector 11.55, 20.32, 5.73>, 'C': <Vector 10.64, 19.17, 6.16>, 'O': <Vector 10.09, 19.15, 7.26>}, {'residue': <Residue ALA het=  resseq=147 icode= >, 'N': <Vector 10.53, 18.21, 5.26>, 'CA': <Vector 9.74, 17.01, 5.51>, 'C': <Vector 10.27, 16.34, 6.75>, 'O': <Vector 9.50, 15.87, 7.58>}, {'residue': <Residue GLU het=  resseq=148 icode= >, 'N': <Vector 11.59, 16.35, 6.88>, 'CA': <Vector 12.24, 15.70, 8.02>, 'C': <Vector 11.98, 16.47, 9.32>, 'O': <Vector 11.79, 15.89, 10.40>}, {'residue': <Residue ASP het=  resseq=149 icode= >, 'N': <Vector 11.95, 17.78, 9.19>, 'CA': <Vector 11.64, 18.66, 10.34>, 'C': <Vector 10.23, 18.34, 10.88>, 'O': <Vector 10.00, 18.19, 12.08>}, {'residue': <Residue CYS het=  resseq=150 icode= >, 'N': <Vector 9.31, 18.28, 9.94>, 'CA': <Vector 7.87, 17.98, 10.23>, 'C': <Vector 7.74, 16.62, 10.91>, 'O': <Vector 6.93, 16.40, 11.83>}, {'residue': <Residue PHE het=  resseq=151 icode= >, 'N': <Vector 8.59, 15.73, 10.47>, 'CA': <Vector 8.57, 14.35, 10.92>, 'C': <Vector 9.09, 14.25, 12.35>, 'O': <Vector 8.56, 13.49, 13.15>}, {'residue': <Residue GLU het=  resseq=152 icode= >, 'N': <Vector 10.09, 15.04, 12.66>, 'CA': <Vector 10.71, 15.03, 13.99>, 'C': <Vector 9.75, 15.60, 15.03>, 'O': <Vector 9.66, 15.15, 16.17>}, {'residue': <Residue LEU het=  resseq=153 icode= >, 'N': <Vector 9.06, 16.63, 14.59>, 'CA': <Vector 8.05, 17.31, 15.41>, 'C': <Vector 6.90, 16.35, 15.69>, 'O': <Vector 6.39, 16.27, 16.80>}, {'residue': <Residue GLY het=  resseq=154 icode= >, 'N': <Vector 6.49, 15.65, 14.65>, 'CA': <Vector 5.33, 14.72, 14.73>, 'C': <Vector 5.65, 13.52, 15.59>, 'O': <Vector 4.82, 12.98, 16.28>}, {'residue': <Residue LYS het=  resseq=155 icode= >, 'N': <Vector 6.92, 13.15, 15.56>, 'CA': <Vector 7.39, 11.93, 16.22>, 'C': <Vector 7.41, 12.17, 17.73>, 'O': <Vector 7.02, 11.32, 18.55>}, {'residue': <Residue VAL het=  resseq=156 icode= >, 'N': <Vector 7.78, 13.40, 18.07>, 'CA': <Vector 7.86, 13.80, 19.46>, 'C': <Vector 6.46, 14.01, 19.98>, 'O': <Vector 6.17, 13.68, 21.12>}, {'residue': <Residue ALA het=  resseq=157 icode= >, 'N': <Vector 5.59, 14.56, 19.14>, 'CA': <Vector 4.19, 14.74, 19.56>, 'C': <Vector 3.67, 13.34, 19.87>, 'O': <Vector 2.98, 13.09, 20.86>}, {'residue': <Residue TYR het=  resseq=158 icode= >, 'N': <Vector 4.07, 12.40, 19.02>, 'CA': <Vector 3.52, 11.04, 19.10>, 'C': <Vector 3.86, 10.41, 20.43>, 'O': <Vector 3.04, 9.86, 21.12>}, {'residue': <Residue THR het=  resseq=159 icode= >, 'N': <Vector 5.13, 10.48, 20.76>, 'CA': <Vector 5.60, 9.94, 22.03>, 'C': <Vector 4.90, 10.60, 23.24>, 'O': <Vector 4.73, 9.97, 24.29>}, {'residue': <Residue GLU het=  resseq=160 icode= >, 'N': <Vector 4.50, 11.85, 23.08>, 'CA': <Vector 3.90, 12.65, 24.14>, 'C': <Vector 2.45, 12.32, 24.39>, 'O': <Vector 1.71, 13.05, 25.00>}, {'residue': <Residue ALA het=  resseq=161 icode= >, 'N': <Vector 2.03, 11.26, 23.75>, 'CA': <Vector 0.75, 11.12, 23.06>, 'C': <Vector -0.04, 12.32, 22.65>, 'O': <Vector -1.25, 12.38, 22.85>}, {'residue': <Residue ASP het=  resseq=162 icode= >, 'N': <Vector 0.59, 13.28, 22.02>, 'CA': <Vector -0.22, 14.33, 21.40>, 'C': <Vector -0.52, 13.96, 19.96>, 'O': <Vector 0.21, 14.32, 19.05>}, {'residue': <Residue TYR het=  resseq=163 icode= >, 'N': <Vector -1.63, 13.27, 19.79>, 'CA': <Vector -2.04, 12.70, 18.49>, 'C': <Vector -2.52, 13.77, 17.53>, 'O': <Vector -2.30, 13.66, 16.33>}, {'residue': <Residue TYR het=  resseq=164 icode= >, 'N': <Vector -3.15, 14.80, 18.07>, 'CA': <Vector -3.63, 15.94, 17.25>, 'C': <Vector -2.46, 16.55, 16.45>, 'O': <Vector -2.54, 16.75, 15.23>}, {'residue': <Residue HIS het=  resseq=165 icode= >, 'N': <Vector -1.37, 16.81, 17.15>, 'CA': <Vector -0.19, 17.49, 16.55>, 'C': <Vector 0.66, 16.52, 15.77>, 'O': <Vector 1.40, 16.90, 14.87>}, {'residue': <Residue THR het=  resseq=166 icode= >, 'N': <Vector 0.51, 15.24, 16.11>, 'CA': <Vector 1.21, 14.17, 15.35>, 'C': <Vector 0.64, 14.16, 13.92>, 'O': <Vector 1.36, 14.18, 12.92>}, {'residue': <Residue GLU het=  resseq=167 icode= >, 'N': <Vector -0.68, 14.14, 13.87>, 'CA': <Vector -1.41, 14.11, 12.59>, 'C': <Vector -1.12, 15.35, 11.70>, 'O': <Vector -0.91, 15.25, 10.49>}, {'residue': <Residue LEU het=  resseq=168 icode= >, 'N': <Vector -1.08, 16.50, 12.34>, 'CA': <Vector -0.83, 17.78, 11.67>, 'C': <Vector 0.54, 17.81, 11.06>, 'O': <Vector 0.71, 18.18, 9.90>}, {'residue': <Residue TRP het=  resseq=169 icode= >, 'N': <Vector 1.52, 17.43, 11.86>, 'CA': <Vector 2.94, 17.47, 11.40>, 'C': <Vector 3.23, 16.37, 10.36>, 'O': <Vector 3.87, 16.59, 9.33>}, {'residue': <Residue MET het=  resseq=170 icode= >, 'N': <Vector 2.73, 15.19, 10.65>, 'CA': <Vector 2.88, 14.05, 9.74>, 'C': <Vector 2.14, 14.32, 8.40>, 'O': <Vector 2.65, 14.04, 7.30>}, {'residue': <Residue GLU het=  resseq=171 icode= >, 'N': <Vector 1.00, 14.97, 8.49>, 'CA': <Vector 0.26, 15.34, 7.28>, 'C': <Vector 1.08, 16.31, 6.42>, 'O': <Vector 1.20, 16.18, 5.18>}, {'residue': <Residue GLN het=  resseq=172 icode= >, 'N': <Vector 1.68, 17.27, 7.11>, 'CA': <Vector 2.50, 18.28, 6.43>, 'C': <Vector 3.71, 17.63, 5.78>, 'O': <Vector 4.05, 17.94, 4.64>}, {'residue': <Residue ALA het=  resseq=173 icode= >, 'N': <Vector 4.32, 16.69, 6.50>, 'CA': <Vector 5.47, 15.90, 5.99>, 'C': <Vector 5.13, 15.20, 4.67>, 'O': <Vector 5.85, 15.25, 3.65>}, {'residue': <Residue LEU het=  resseq=174 icode= >, 'N': <Vector 4.01, 14.53, 4.72>, 'CA': <Vector 3.46, 13.77, 3.57>, 'C': <Vector 3.20, 14.65, 2.35>, 'O': <Vector 3.61, 14.31, 1.23>}, {'residue': <Residue ARG het=  resseq=175 icode= >, 'N': <Vector 2.52, 15.76, 2.56>, 'CA': <Vector 2.26, 16.68, 1.47>, 'C': <Vector 3.57, 17.14, 0.80>, 'O': <Vector 3.65, 17.22, -0.41>}, {'residue': <Residue GLN het=  resseq=176 icode= >, 'N': <Vector 4.58, 17.39, 1.62>, 'CA': <Vector 5.84, 17.92, 1.11>, 'C': <Vector 6.48, 16.82, 0.31>, 'O': <Vector 7.00, 17.04, -0.79>}, {'residue': <Residue LEU het=  resseq=177 icode= >, 'N': <Vector 6.30, 15.60, 0.81>, 'CA': <Vector 6.85, 14.41, 0.12>, 'C': <Vector 6.12, 14.20, -1.23>, 'O': <Vector 6.74, 13.97, -2.28>}, {'residue': <Residue ASP het=  resseq=178 icode= >, 'N': <Vector 4.81, 14.36, -1.19>, 'CA': <Vector 3.94, 14.12, -2.36>, 'C': <Vector 4.22, 15.11, -3.47>, 'O': <Vector 3.92, 14.87, -4.66>}, {'residue': <Residue GLU het=  resseq=179 icode= >, 'N': <Vector 4.79, 16.23, -3.07>, 'CA': <Vector 5.03, 17.33, -4.01>, 'C': <Vector 6.42, 17.22, -4.59>, 'O': <Vector 6.80, 17.96, -5.50>}, {'residue': <Residue GLY het=  resseq=180 icode= >, 'N': <Vector 7.18, 16.26, -4.06>, 'CA': <Vector 8.47, 15.87, -4.65>, 'C': <Vector 9.72, 16.26, -3.88>, 'O': <Vector 10.82, 16.22, -4.41>}, {'residue': <Residue GLU het=  resseq=181 icode= >, 'N': <Vector 9.54, 16.60, -2.61>, 'CA': <Vector 10.68, 16.99, -1.75>, 'C': <Vector 11.65, 15.84, -1.63>, 'O': <Vector 11.26, 14.69, -1.46>}, {'residue': <Residue ILE het=  resseq=182 icode= >, 'N': <Vector 12.91, 16.19, -1.78>, 'CA': <Vector 14.04, 15.25, -1.65>, 'C': <Vector 14.43, 15.19, -0.19>, 'O': <Vector 14.93, 16.16, 0.37>}, {'residue': <Residue SER het=  resseq=183 icode= >, 'N': <Vector 14.18, 14.03, 0.42>, 'CA': <Vector 14.25, 13.87, 1.88>, 'C': <Vector 14.79, 12.51, 2.29>, 'O': <Vector 14.62, 11.52, 1.58>}, {'residue': <Residue THR het=  resseq=184 icode= >, 'N': <Vector 15.44, 12.46, 3.44>, 'CA': <Vector 15.87, 11.19, 4.01>, 'C': <Vector 14.66, 10.43, 4.56>, 'O': <Vector 14.74, 9.24, 4.77>}, {'residue': <Residue ILE het=  resseq=185 icode= >, 'N': <Vector 13.52, 11.09, 4.78>, 'CA': <Vector 12.39, 10.33, 5.29>, 'C': <Vector 11.43, 9.89, 4.17>, 'O': <Vector 11.23, 10.57, 3.16>}, {'residue': <Residue ASP het=  resseq=186 icode= >, 'N': <Vector 10.87, 8.70, 4.35>, 'CA': <Vector 10.00, 8.09, 3.34>, 'C': <Vector 8.52, 8.08, 3.70>, 'O': <Vector 8.10, 8.22, 4.88>}, {'residue': <Residue LYS het=  resseq=187 icode= >, 'N': <Vector 7.72, 7.91, 2.67>, 'CA': <Vector 6.27, 8.12, 2.81>, 'C': <Vector 5.71, 7.11, 3.78>, 'O': <Vector 4.84, 7.42, 4.57>}, {'residue': <Residue VAL het=  resseq=188 icode= >, 'N': <Vector 6.25, 5.90, 3.70>, 'CA': <Vector 5.69, 4.76, 4.45>, 'C': <Vector 5.83, 5.05, 5.92>, 'O': <Vector 4.93, 4.81, 6.73>}, {'residue': <Residue SER het=  resseq=189 icode= >, 'N': <Vector 6.95, 5.67, 6.25>, 'CA': <Vector 7.25, 5.96, 7.66>, 'C': <Vector 6.31, 7.03, 8.20>, 'O': <Vector 5.86, 6.96, 9.34>}, {'residue': <Residue VAL het=  resseq=190 icode= >, 'N': <Vector 6.00, 7.99, 7.34>, 'CA': <Vector 5.08, 9.09, 7.73>, 'C': <Vector 3.71, 8.44, 7.94>, 'O': <Vector 2.99, 8.68, 8.92>}, {'residue': <Residue LEU het=  resseq=191 icode= >, 'N': <Vector 3.39, 7.55, 7.02>, 'CA': <Vector 2.05, 6.93, 6.99>, 'C': <Vector 1.81, 6.07, 8.21>, 'O': <Vector 0.71, 5.98, 8.71>}, {'residue': <Residue ASP het=  resseq=192 icode= >, 'N': <Vector 2.89, 5.51, 8.72>, 'CA': <Vector 2.86, 4.59, 9.84>, 'C': <Vector 2.35, 5.36, 11.05>, 'O': <Vector 1.43, 4.92, 11.79>}, {'residue': <Residue TYR het=  resseq=193 icode= >, 'N': <Vector 2.93, 6.54, 11.23>, 'CA': <Vector 2.58, 7.40, 12.37>, 'C': <Vector 1.22, 8.03, 12.17>, 'O': <Vector 0.45, 8.19, 13.10>}, {'residue': <Residue LEU het=  resseq=194 icode= >, 'N': <Vector 0.98, 8.44, 10.94>, 'CA': <Vector -0.19, 9.24, 10.61>, 'C': <Vector -1.44, 8.40, 10.82>, 'O': <Vector -2.39, 8.82, 11.46>}, {'residue': <Residue SER het=  resseq=195 icode= >, 'N': <Vector -1.38, 7.18, 10.30>, 'CA': <Vector -2.53, 6.26, 10.35>, 'C': <Vector -2.88, 5.94, 11.77>, 'O': <Vector -4.03, 5.88, 12.12>}, {'residue': <Residue TYR het=  resseq=196 icode= >, 'N': <Vector -1.87, 5.72, 12.60>, 'CA': <Vector -2.14, 5.33, 13.99>, 'C': <Vector -2.61, 6.54, 14.81>, 'O': <Vector -3.47, 6.42, 15.68>}, {'residue': <Residue ALA het=  resseq=197 icode= >, 'N': <Vector -2.04, 7.71, 14.52>, 'CA': <Vector -2.47, 8.96, 15.16>, 'C': <Vector -3.94, 9.25, 14.88>, 'O': <Vector -4.70, 9.67, 15.76>}, {'residue': <Residue VAL het=  resseq=198 icode= >, 'N': <Vector -4.36, 8.98, 13.65>, 'CA': <Vector -5.75, 9.28, 13.24>, 'C': <Vector -6.65, 8.29, 13.97>, 'O': <Vector -7.69, 8.64, 14.52>}, {'residue': <Residue TYR het=  resseq=199 icode= >, 'N': <Vector -6.19, 7.05, 14.04>, 'CA': <Vector -6.93, 6.01, 14.81>, 'C': <Vector -7.12, 6.42, 16.28>, 'O': <Vector -8.19, 6.23, 16.86>}, {'residue': <Residue GLN het=  resseq=200 icode= >, 'N': <Vector -6.06, 6.97, 16.86>, 'CA': <Vector -6.00, 7.23, 18.32>, 'C': <Vector -7.01, 8.29, 18.67>, 'O': <Vector -7.40, 8.44, 19.82>}, {'residue': <Residue GLN het=  resseq=201 icode= >, 'N': <Vector -7.44, 9.01, 17.64>, 'CA': <Vector -8.35, 10.15, 17.77>, 'C': <Vector -9.76, 9.76, 17.46>, 'O': <Vector -10.70, 10.56, 17.58>}, {'residue': <Residue GLY het=  resseq=202 icode= >, 'N': <Vector -9.89, 8.51, 17.05>, 'CA': <Vector -11.21, 7.89, 16.83>, 'C': <Vector -11.74, 7.86, 15.40>, 'O': <Vector -12.83, 7.35, 15.17>}, {'residue': <Residue ASP het=  resseq=203 icode= >, 'N': <Vector -10.98, 8.35, 14.44>, 'CA': <Vector -11.42, 8.22, 13.03>, 'C': <Vector -10.91, 6.95, 12.38>, 'O': <Vector -9.88, 6.95, 11.69>}, {'residue': <Residue LEU het=  resseq=204 icode= >, 'N': <Vector -11.65, 5.88, 12.60>, 'CA': <Vector -11.27, 4.54, 12.12>, 'C': <Vector -11.27, 4.50, 10.61>, 'O': <Vector -10.40, 3.88, 9.99>}, {'residue': <Residue ASP het=  resseq=205 icode= >, 'N': <Vector -12.27, 5.14, 10.03>, 'CA': <Vector -12.45, 5.11, 8.57>, 'C': <Vector -11.22, 5.66, 7.89>, 'O': <Vector -10.70, 5.08, 6.96>}, {'residue': <Residue LYS het=  resseq=206 icode= >, 'N': <Vector -10.77, 6.78, 8.40>, 'CA': <Vector -9.57, 7.45, 7.85>, 'C': <Vector -8.28, 6.71, 8.15>, 'O': <Vector -7.37, 6.68, 7.33>}, {'residue': <Residue ALA het=  resseq=207 icode= >, 'N': <Vector -8.25, 6.06, 9.30>, 'CA': <Vector -7.09, 5.24, 9.72>, 'C': <Vector -6.90, 4.08, 8.75>, 'O': <Vector -5.82, 3.79, 8.27>}, {'residue': <Residue LEU het=  resseq=208 icode= >, 'N': <Vector -8.02, 3.49, 8.40>, 'CA': <Vector -8.05, 2.34, 7.46>, 'C': <Vector -7.54, 2.74, 6.05>, 'O': <Vector -6.78, 2.03, 5.40>}, {'residue': <Residue LEU het=  resseq=209 icode= >, 'N': <Vector -7.98, 3.91, 5.60>, 'CA': <Vector -7.63, 4.40, 4.27>, 'C': <Vector -6.14, 4.64, 4.17>, 'O': <Vector -5.51, 4.28, 3.19>}, {'residue': <Residue LEU het=  resseq=210 icode= >, 'N': <Vector -5.60, 5.26, 5.21>, 'CA': <Vector -4.15, 5.57, 5.27>, 'C': <Vector -3.34, 4.30, 5.33>, 'O': <Vector -2.23, 4.20, 4.79>}, {'residue': <Residue THR het=  resseq=211 icode= >, 'N': <Vector -3.94, 3.30, 5.97>, 'CA': <Vector -3.30, 1.99, 6.14>, 'C': <Vector -3.23, 1.31, 4.78>, 'O': <Vector -2.20, 0.78, 4.38>}, {'residue': <Residue LYS het=  resseq=212 icode= >, 'N': <Vector -4.34, 1.39, 4.06>, 'CA': <Vector -4.41, 0.82, 2.72>, 'C': <Vector -3.44, 1.51, 1.79>, 'O': <Vector -2.82, 0.89, 0.94>}, {'residue': <Residue LYS het=  resseq=213 icode= >, 'N': <Vector -3.28, 2.80, 2.03>, 'CA': <Vector -2.36, 3.64, 1.27>, 'C': <Vector -0.89, 3.24, 1.50>, 'O': <Vector -0.09, 3.19, 0.56>}, {'residue': <Residue LEU het=  resseq=214 icode= >, 'N': <Vector -0.57, 2.95, 2.75>, 'CA': <Vector 0.80, 2.53, 3.14>, 'C': <Vector 1.11, 1.20, 2.44>, 'O': <Vector 2.18, 0.98, 1.84>}, {'residue': <Residue LEU het=  resseq=215 icode= >, 'N': <Vector 0.12, 0.33, 2.49>, 'CA': <Vector 0.25, -1.04, 1.98>, 'C': <Vector 0.31, -1.06, 0.45>, 'O': <Vector 0.88, -1.97, -0.14>}, {'residue': <Residue GLU het=  resseq=216 icode= >, 'N': <Vector -0.26, -0.05, -0.19>, 'CA': <Vector -0.09, 0.07, -1.65>, 'C': <Vector 1.39, 0.29, -1.93>, 'O': <Vector 1.95, -0.17, -2.93>}, {'residue': <Residue LEU het=  resseq=217 icode= >, 'N': <Vector 2.01, 1.03, -1.03>, 'CA': <Vector 3.42, 1.43, -1.17>, 'C': <Vector 4.35, 0.31, -0.70>, 'O': <Vector 5.38, 0.07, -1.29>}, {'residue': <Residue ASP het=  resseq=218 icode= >, 'N': <Vector 3.96, -0.34, 0.39>, 'CA': <Vector 4.78, -1.41, 1.01>, 'C': <Vector 3.93, -2.60, 1.42>, 'O': <Vector 3.48, -2.67, 2.56>}, {'residue': <Residue PRO het=  resseq=219 icode= >, 'N': <Vector 3.67, -3.51, 0.48>, 'CA': <Vector 2.61, -4.48, 0.73>, 'C': <Vector 2.97, -5.43, 1.85>, 'O': <Vector 2.10, -6.09, 2.41>}, {'residue': <Residue GLU het=  resseq=220 icode= >, 'N': <Vector 4.26, -5.46, 2.16>, 'CA': <Vector 4.81, -6.45, 3.09>, 'C': <Vector 4.93, -5.89, 4.49>, 'O': <Vector 5.35, -6.55, 5.43>}, {'residue': <Residue HIS het=  resseq=221 icode= >, 'N': <Vector 4.53, -4.63, 4.61>, 'CA': <Vector 4.67, -3.91, 5.86>, 'C': <Vector 3.91, -4.66, 6.98>, 'O': <Vector 2.71, -4.83, 6.95>}, {'residue': <Residue GLN het=  resseq=222 icode= >, 'N': <Vector 4.68, -5.05, 7.99>, 'CA': <Vector 4.21, -5.98, 9.04>, 'C': <Vector 3.16, -5.32, 9.93>, 'O': <Vector 2.05, -5.82, 10.12>}, {'residue': <Residue ARG het=  resseq=223 icode= >, 'N': <Vector 3.53, -4.17, 10.46>, 'CA': <Vector 2.62, -3.42, 11.35>, 'C': <Vector 1.38, -2.99, 10.66>, 'O': <Vector 0.26, -3.08, 11.17>}, {'residue': <Residue ALA het=  resseq=224 icode= >, 'N': <Vector 1.60, -2.47, 9.48>, 'CA': <Vector 0.48, -2.05, 8.61>, 'C': <Vector -0.48, -3.19, 8.30>, 'O': <Vector -1.70, -3.00, 8.33>}, {'residue': <Residue ASN het=  resseq=225 icode= >, 'N': <Vector 0.05, -4.38, 8.03>, 'CA': <Vector -0.83, -5.53, 7.76>, 'C': <Vector -1.66, -5.92, 8.98>, 'O': <Vector -2.85, -6.28, 8.90>}, {'residue': <Residue GLY het=  resseq=226 icode= >, 'N': <Vector -1.00, -5.83, 10.12>, 'CA': <Vector -1.66, -6.12, 11.40>, 'C': <Vector -2.75, -5.10, 11.66>, 'O': <Vector -3.89, -5.43, 12.01>}, {'residue': <Residue ASN het=  resseq=227 icode= >, 'N': <Vector -2.39, -3.86, 11.39>, 'CA': <Vector -3.25, -2.71, 11.72>, 'C': <Vector -4.51, -2.83, 10.89>, 'O': <Vector -5.60, -2.53, 11.34>}, {'residue': <Residue LEU het=  resseq=228 icode= >, 'N': <Vector -4.34, -3.31, 9.66>, 'CA': <Vector -5.48, -3.43, 8.73>, 'C': <Vector -6.55, -4.37, 9.27>, 'O': <Vector -7.76, -4.09, 9.23>}, {'residue': <Residue LYS het=  resseq=229 icode= >, 'N': <Vector -6.09, -5.51, 9.75>, 'CA': <Vector -6.98, -6.52, 10.32>, 'C': <Vector -7.62, -6.05, 11.63>, 'O': <Vector -8.79, -6.33, 11.91>}, {'residue': <Residue TYR het=  resseq=230 icode= >, 'N': <Vector -6.83, -5.32, 12.39>, 'CA': <Vector -7.26, -4.82, 13.71>, 'C': <Vector -8.34, -3.76, 13.55>, 'O': <Vector -9.43, -3.85, 14.10>}, {'residue': <Residue PHE het=  resseq=231 icode= >, 'N': <Vector -8.02, -2.77, 12.75>, 'CA': <Vector -8.98, -1.71, 12.39>, 'C': <Vector -10.27, -2.32, 11.85>, 'O': <Vector -11.36, -1.97, 12.27>}, {'residue': <Residue GLU het=  resseq=232 icode= >, 'N': <Vector -10.14, -3.28, 10.93>, 'CA': <Vector -11.33, -3.94, 10.34>, 'C': <Vector -12.15, -4.69, 11.38>, 'O': <Vector -13.39, -4.71, 11.35>}, {'residue': <Residue TYR het=  resseq=233 icode= >, 'N': <Vector -11.44, -5.30, 12.32>, 'CA': <Vector -12.09, -6.08, 13.35>, 'C': <Vector -12.94, -5.17, 14.22>, 'O': <Vector -14.13, -5.43, 14.49>}, {'residue': <Residue ILE het=  resseq=234 icode= >, 'N': <Vector -12.32, -4.08, 14.64>, 'CA': <Vector -13.00, -3.14, 15.55>, 'C': <Vector -14.22, -2.53, 14.86>, 'O': <Vector -15.29, -2.36, 15.46>}, {'residue': <Residue MET het=  resseq=235 icode= >, 'N': <Vector -14.04, -2.22, 13.59>, 'CA': <Vector -15.12, -1.60, 12.80>, 'C': <Vector -16.31, -2.54, 12.68>, 'O': <Vector -17.47, -2.12, 12.79>}, {'residue': <Residue ALA het=  resseq=236 icode= >, 'N': <Vector -16.01, -3.81, 12.47>, 'CA': <Vector -17.07, -4.83, 12.35>, 'C': <Vector -17.81, -4.96, 13.68>, 'O': <Vector -19.05, -5.01, 13.73>}, {'residue': <Residue LYS het=  resseq=237 icode= >, 'N': <Vector -17.04, -5.01, 14.75>, 'CA': <Vector -17.60, -5.14, 16.11>, 'C': <Vector -18.30, -3.85, 16.52>, 'O': <Vector -19.12, -3.82, 17.44>}, {'residue': <Residue GLU het=  resseq=238 icode= >, 'N': <Vector -17.97, -2.78, 15.81>, 'CA': <Vector -18.54, -1.46, 16.08>, 'C': <Vector -19.95, -1.38, 15.51>, 'O': <Vector -20.89, -0.96, 16.18>}, {'residue': <Residue LYS het=  resseq=239 icode= >, 'N': <Vector -20.06, -1.84, 14.27>, 'CA': <Vector -21.34, -1.88, 13.56>, 'C': <Vector -22.32, -2.75, 14.31>, 'O': <Vector -22.19, -3.97, 14.36>}, {'residue': <Residue ASP het=  resseq=240 icode= >, 'N': <Vector -23.29, -2.09, 14.94>, 'CA': <Vector -24.32, -2.77, 15.72>, 'C': <Vector -25.62, -1.98, 15.81>, 'O': <Vector -26.63, -2.50, 16.29>}, {'residue': <Residue HOH het=W resseq=2001 icode= >, 'O': <Vector 14.94, 24.63, 5.33>}, {'residue': <Residue HOH het=W resseq=2002 icode= >, 'O': <Vector 11.03, 27.73, 9.40>}, {'residue': <Residue HOH het=W resseq=2003 icode= >, 'O': <Vector 7.49, 23.46, 5.89>}, {'residue': <Residue HOH het=W resseq=2004 icode= >, 'O': <Vector 15.71, 18.66, 6.97>}, {'residue': <Residue HOH het=W resseq=2005 icode= >, 'O': <Vector 15.07, 12.32, 10.65>}, {'residue': <Residue HOH het=W resseq=2006 icode= >, 'O': <Vector 15.53, 18.01, 10.18>}, {'residue': <Residue HOH het=W resseq=2007 icode= >, 'O': <Vector 10.92, 17.42, 17.48>}, {'residue': <Residue HOH het=W resseq=2008 icode= >, 'O': <Vector 14.75, 16.18, 16.26>}, {'residue': <Residue HOH het=W resseq=2009 icode= >, 'O': <Vector 11.71, 13.34, 16.63>}, {'residue': <Residue HOH het=W resseq=2010 icode= >, 'O': <Vector 6.44, 18.13, 18.99>}, {'residue': <Residue HOH het=W resseq=2011 icode= >, 'O': <Vector 13.52, 9.91, 17.72>}, {'residue': <Residue HOH het=W resseq=2012 icode= >, 'O': <Vector 10.13, 10.88, 20.21>}, {'residue': <Residue HOH het=W resseq=2013 icode= >, 'O': <Vector 5.23, 17.43, 21.28>}, {'residue': <Residue HOH het=W resseq=2014 icode= >, 'O': <Vector 0.61, 15.74, 25.29>}, {'residue': <Residue HOH het=W resseq=2015 icode= >, 'O': <Vector 9.61, 18.22, 22.84>}, {'residue': <Residue HOH het=W resseq=2016 icode= >, 'O': <Vector 2.30, 12.31, 27.69>}, {'residue': <Residue HOH het=W resseq=2017 icode= >, 'O': <Vector -3.81, 11.58, 24.31>}, {'residue': <Residue HOH het=W resseq=2018 icode= >, 'O': <Vector -0.06, 19.53, 23.60>}, {'residue': <Residue HOH het=W resseq=2019 icode= >, 'O': <Vector 2.93, 18.74, 20.99>}, {'residue': <Residue HOH het=W resseq=2020 icode= >, 'O': <Vector -3.34, 18.29, 21.17>}, {'residue': <Residue HOH het=W resseq=2021 icode= >, 'O': <Vector -4.40, 24.30, 16.58>}, {'residue': <Residue HOH het=W resseq=2022 icode= >, 'O': <Vector -4.73, 16.91, 13.60>}, {'residue': <Residue HOH het=W resseq=2023 icode= >, 'O': <Vector -4.50, 14.34, 20.87>}, {'residue': <Residue HOH het=W resseq=2024 icode= >, 'O': <Vector -0.72, 19.48, 8.45>}, {'residue': <Residue HOH het=W resseq=2025 icode= >, 'O': <Vector -4.71, 13.73, 8.03>}, {'residue': <Residue HOH het=W resseq=2026 icode= >, 'O': <Vector 0.84, 21.99, 8.66>}, {'residue': <Residue HOH het=W resseq=2027 icode= >, 'O': <Vector 5.66, 25.29, 8.40>}, {'residue': <Residue HOH het=W resseq=2028 icode= >, 'O': <Vector -6.59, 20.38, 3.61>}, {'residue': <Residue HOH het=W resseq=2029 icode= >, 'O': <Vector -0.81, 19.91, 5.61>}, {'residue': <Residue HOH het=W resseq=2030 icode= >, 'O': <Vector 7.55, 19.68, -1.79>}, {'residue': <Residue HOH het=W resseq=2031 icode= >, 'O': <Vector 9.27, 13.09, -2.58>}, {'residue': <Residue HOH het=W resseq=2032 icode= >, 'O': <Vector -0.82, 15.40, -1.14>}, {'residue': <Residue HOH het=W resseq=2033 icode= >, 'O': <Vector 1.11, 9.69, -0.72>}, {'residue': <Residue HOH het=W resseq=2034 icode= >, 'O': <Vector -0.90, 11.49, -0.23>}, {'residue': <Residue HOH het=W resseq=2035 icode= >, 'O': <Vector 8.67, 19.64, -4.27>}, {'residue': <Residue HOH het=W resseq=2036 icode= >, 'O': <Vector 9.32, 20.82, -0.03>}, {'residue': <Residue HOH het=W resseq=2037 icode= >, 'O': <Vector 12.35, 12.32, -0.93>}, {'residue': <Residue HOH het=W resseq=2038 icode= >, 'O': <Vector 13.85, 18.91, -2.76>}, {'residue': <Residue HOH het=W resseq=2039 icode= >, 'O': <Vector 14.23, 8.93, 1.33>}, {'residue': <Residue HOH het=W resseq=2040 icode= >, 'O': <Vector 13.56, 16.42, 4.57>}, {'residue': <Residue HOH het=W resseq=2041 icode= >, 'O': <Vector 14.40, 6.82, 3.54>}, {'residue': <Residue HOH het=W resseq=2042 icode= >, 'O': <Vector 11.31, 10.12, 0.62>}, {'residue': <Residue HOH het=W resseq=2043 icode= >, 'O': <Vector 12.19, 3.20, 5.74>}, {'residue': <Residue HOH het=W resseq=2044 icode= >, 'O': <Vector 12.01, 7.46, 7.16>}, {'residue': <Residue HOH het=W resseq=2045 icode= >, 'O': <Vector 7.86, 4.90, 1.24>}, {'residue': <Residue HOH het=W resseq=2046 icode= >, 'O': <Vector 5.80, 12.03, -4.70>}, {'residue': <Residue HOH het=W resseq=2047 icode= >, 'O': <Vector 3.74, 7.87, -3.47>}, {'residue': <Residue HOH het=W resseq=2048 icode= >, 'O': <Vector 8.84, 7.38, -0.01>}, {'residue': <Residue HOH het=W resseq=2049 icode= >, 'O': <Vector 1.15, 2.29, 12.51>}, {'residue': <Residue HOH het=W resseq=2050 icode= >, 'O': <Vector 7.23, 1.99, 9.36>}, {'residue': <Residue HOH het=W resseq=2051 icode= >, 'O': <Vector 7.32, 4.32, 11.14>}, {'residue': <Residue HOH het=W resseq=2052 icode= >, 'O': <Vector -1.49, 1.65, 9.72>}, {'residue': <Residue HOH het=W resseq=2053 icode= >, 'O': <Vector -3.88, 1.07, 20.37>}, {'residue': <Residue HOH het=W resseq=2054 icode= >, 'O': <Vector 8.98, 18.58, 19.59>}, {'residue': <Residue HOH het=W resseq=2055 icode= >, 'O': <Vector 13.12, 17.14, 18.08>}, {'residue': <Residue HOH het=W resseq=2056 icode= >, 'O': <Vector 12.04, 11.62, 18.63>}, {'residue': <Residue HOH het=W resseq=2057 icode= >, 'O': <Vector 4.07, 19.26, 18.59>}, {'residue': <Residue HOH het=W resseq=2058 icode= >, 'O': <Vector -9.91, 4.95, 18.44>}, {'residue': <Residue HOH het=W resseq=2059 icode= >, 'O': <Vector -10.34, 1.64, 19.50>}, {'residue': <Residue HOH het=W resseq=2060 icode= >, 'O': <Vector -4.08, 9.32, 25.04>}, {'residue': <Residue HOH het=W resseq=2061 icode= >, 'O': <Vector -6.33, 8.51, 22.30>}, {'residue': <Residue HOH het=W resseq=2062 icode= >, 'O': <Vector -2.44, 20.45, 22.81>}, {'residue': <Residue HOH het=W resseq=2063 icode= >, 'O': <Vector 2.53, 19.90, 23.72>}, {'residue': <Residue HOH het=W resseq=2064 icode= >, 'O': <Vector -3.35, 15.74, 23.26>}, {'residue': <Residue HOH het=W resseq=2065 icode= >, 'O': <Vector -1.73, 23.97, 16.66>}, {'residue': <Residue HOH het=W resseq=2066 icode= >, 'O': <Vector -7.04, 16.01, 14.57>}, {'residue': <Residue HOH het=W resseq=2067 icode= >, 'O': <Vector -7.37, 14.83, 18.90>}, {'residue': <Residue HOH het=W resseq=2068 icode= >, 'O': <Vector -14.28, 10.13, 13.60>}, {'residue': <Residue HOH het=W resseq=2069 icode= >, 'O': <Vector -13.88, 5.26, 16.94>}, {'residue': <Residue HOH het=W resseq=2070 icode= >, 'O': <Vector -14.34, 5.93, 13.55>}, {'residue': <Residue HOH het=W resseq=2071 icode= >, 'O': <Vector -13.35, 9.53, 7.71>}, {'residue': <Residue HOH het=W resseq=2072 icode= >, 'O': <Vector 1.29, 21.47, 5.33>}, {'residue': <Residue HOH het=W resseq=2073 icode= >, 'O': <Vector 5.53, 21.13, -1.34>}, {'residue': <Residue HOH het=W resseq=2074 icode= >, 'O': <Vector 8.83, 10.60, -1.36>}, {'residue': <Residue HOH het=W resseq=2075 icode= >, 'O': <Vector -11.93, 3.41, 5.40>}, {'residue': <Residue HOH het=W resseq=2076 icode= >, 'O': <Vector -0.78, 14.43, -3.82>}, {'residue': <Residue HOH het=W resseq=2077 icode= >, 'O': <Vector 0.51, 7.32, -1.59>}, {'residue': <Residue HOH het=W resseq=2078 icode= >, 'O': <Vector 6.61, 22.82, 0.27>}, {'residue': <Residue HOH het=W resseq=2079 icode= >, 'O': <Vector -6.78, 15.56, 6.41>}, {'residue': <Residue HOH het=W resseq=2080 icode= >, 'O': <Vector -9.53, 14.22, 7.82>}, {'residue': <Residue HOH het=W resseq=2081 icode= >, 'O': <Vector 12.21, 21.04, -2.63>}, {'residue': <Residue HOH het=W resseq=2082 icode= >, 'O': <Vector 9.87, 1.34, 5.68>}, {'residue': <Residue HOH het=W resseq=2083 icode= >, 'O': <Vector -6.61, 4.32, 0.64>}, {'residue': <Residue HOH het=W resseq=2084 icode= >, 'O': <Vector -3.73, -1.20, -0.17>}, {'residue': <Residue HOH het=W resseq=2085 icode= >, 'O': <Vector -11.44, 1.27, 3.18>}, {'residue': <Residue HOH het=W resseq=2086 icode= >, 'O': <Vector -0.12, 4.51, -1.62>}, {'residue': <Residue HOH het=W resseq=2087 icode= >, 'O': <Vector -3.85, 10.17, -1.46>}, {'residue': <Residue HOH het=W resseq=2088 icode= >, 'O': <Vector -4.76, 3.53, -1.15>}, {'residue': <Residue HOH het=W resseq=2089 icode= >, 'O': <Vector -8.31, 4.47, 20.45>}, {'residue': <Residue HOH het=W resseq=2090 icode= >, 'O': <Vector -11.61, 12.02, 14.30>}, {'residue': <Residue HOH het=W resseq=2091 icode= >, 'O': <Vector -1.68, -3.50, -1.12>}, {'residue': <Residue HOH het=W resseq=2092 icode= >, 'O': <Vector 4.81, 22.16, -4.08>}, {'residue': <Residue HOH het=W resseq=2093 icode= >, 'O': <Vector -5.92, 0.66, -1.94>}, {'residue': <Residue HOH het=W resseq=2094 icode= >, 'O': <Vector 0.92, 3.88, -4.20>}, {'residue': <Residue HOH het=W resseq=2095 icode= >, 'O': <Vector -3.76, -1.68, -4.74>}, {'residue': <Residue HOH het=W resseq=2096 icode= >, 'O': <Vector -8.63, 16.54, 8.29>}, {'residue': <Residue HOH het=W resseq=2097 icode= >, 'O': <Vector -8.24, 2.30, -0.15>}, {'residue': <Residue HOH het=W resseq=2098 icode= >, 'O': <Vector -7.06, 7.34, 0.49>}, {'residue': <Residue HOH het=W resseq=2099 icode= >, 'O': <Vector 8.12, 0.17, -0.51>}, {'residue': <Residue HOH het=W resseq=2100 icode= >, 'O': <Vector 8.70, 0.73, 3.74>}, {'residue': <Residue HOH het=W resseq=2101 icode= >, 'O': <Vector 8.42, -2.98, 5.51>}, {'residue': <Residue HOH het=W resseq=2102 icode= >, 'O': <Vector -5.04, -2.96, 1.66>}, {'residue': <Residue HOH het=W resseq=2103 icode= >, 'O': <Vector -0.40, -5.96, 1.35>}, {'residue': <Residue HOH het=W resseq=2104 icode= >, 'O': <Vector 8.16, -6.20, 5.09>}, {'residue': <Residue HOH het=W resseq=2105 icode= >, 'O': <Vector 4.38, -8.73, 6.36>}, {'residue': <Residue HOH het=W resseq=2106 icode= >, 'O': <Vector 3.92, -8.69, -1.63>}, {'residue': <Residue HOH het=W resseq=2107 icode= >, 'O': <Vector 11.65, -1.10, 3.03>}, {'residue': <Residue HOH het=W resseq=2108 icode= >, 'O': <Vector -0.19, -11.92, 2.73>}, {'residue': <Residue HOH het=W resseq=2109 icode= >, 'O': <Vector -13.11, -7.05, 3.89>}, {'residue': <Residue HOH het=W resseq=2110 icode= >, 'O': <Vector 7.78, -4.09, 8.15>}, {'residue': <Residue HOH het=W resseq=2111 icode= >, 'O': <Vector 8.11, -11.19, 12.24>}, {'residue': <Residue HOH het=W resseq=2112 icode= >, 'O': <Vector 5.88, -10.98, 9.68>}, {'residue': <Residue HOH het=W resseq=2113 icode= >, 'O': <Vector 6.53, -4.75, 12.76>}, {'residue': <Residue HOH het=W resseq=2114 icode= >, 'O': <Vector -4.20, -9.08, 2.96>}, {'residue': <Residue HOH het=W resseq=2115 icode= >, 'O': <Vector 6.31, -3.00, 10.71>}, {'residue': <Residue HOH het=W resseq=2116 icode= >, 'O': <Vector -14.18, -4.85, 3.52>}, {'residue': <Residue HOH het=W resseq=2117 icode= >, 'O': <Vector -14.92, -9.23, 12.49>}, {'residue': <Residue HOH het=W resseq=2118 icode= >, 'O': <Vector -0.10, -9.42, 2.93>}, {'residue': <Residue HOH het=W resseq=2119 icode= >, 'O': <Vector -3.79, -7.63, 13.52>}, {'residue': <Residue HOH het=W resseq=2120 icode= >, 'O': <Vector -0.37, -4.18, 13.98>}, {'residue': <Residue HOH het=W resseq=2121 icode= >, 'O': <Vector -10.20, -8.45, 10.93>}, {'residue': <Residue HOH het=W resseq=2122 icode= >, 'O': <Vector -6.61, -11.03, 4.32>}, {'residue': <Residue HOH het=W resseq=2123 icode= >, 'O': <Vector -14.68, -4.00, 9.11>}, {'residue': <Residue HOH het=W resseq=2124 icode= >, 'O': <Vector -8.69, -7.82, 5.18>}, {'residue': <Residue HOH het=W resseq=2125 icode= >, 'O': <Vector -13.22, -8.32, 10.91>}, {'residue': <Residue HOH het=W resseq=2126 icode= >, 'O': <Vector -9.41, -4.88, 3.18>}, {'residue': <Residue HOH het=W resseq=2127 icode= >, 'O': <Vector -11.94, -3.00, 4.38>}, {'residue': <Residue HOH het=W resseq=2128 icode= >, 'O': <Vector -10.45, -8.19, 8.03>}, {'residue': <Residue HOH het=W resseq=2129 icode= >, 'O': <Vector -15.10, -8.02, 14.27>}, {'residue': <Residue HOH het=W resseq=2130 icode= >, 'O': <Vector -19.22, -5.77, 9.86>}, {'residue': <Residue HOH het=W resseq=2131 icode= >, 'O': <Vector -15.19, 0.95, 18.31>}, {'residue': <Residue HIS het=  resseq=-1 icode= >, 'N': <Vector 6.72, 0.49, 18.01>, 'CA': <Vector 5.84, 1.71, 18.01>, 'C': <Vector 5.29, 1.94, 19.41>, 'O': <Vector 4.96, 1.01, 20.14>}, {'residue': <Residue HIS het=  resseq=0 icode= >, 'N': <Vector 5.17, 3.22, 19.75>, 'CA': <Vector 5.16, 3.62, 21.16>, 'C': <Vector 3.94, 3.11, 21.91>, 'O': <Vector 4.03, 2.35, 22.87>}, {'residue': <Residue HIS het=  resseq=1 icode= >, 'N': <Vector 2.80, 3.56, 21.43>, 'CA': <Vector 1.53, 3.42, 22.15>, 'C': <Vector 0.66, 2.39, 21.45>, 'O': <Vector -0.57, 2.37, 21.58>}, {'residue': <Residue HIS het=  resseq=2 icode= >, 'N': <Vector 1.35, 1.56, 20.70>, 'CA': <Vector 0.71, 0.50, 19.88>, 'C': <Vector -0.03, -0.53, 20.73>, 'O': <Vector 0.33, -0.83, 21.88>}, {'residue': <Residue HIS het=  resseq=3 icode= >, 'N': <Vector -1.09, -1.05, 20.14>, 'CA': <Vector -1.93, -2.07, 20.78>, 'C': <Vector -1.10, -3.31, 21.13>, 'O': <Vector -1.40, -4.05, 22.07>}, {'residue': <Residue HIS het=  resseq=4 icode= >, 'N': <Vector -0.03, -3.49, 20.40>, 'CA': <Vector 0.87, -4.63, 20.63>, 'C': <Vector 2.10, -4.13, 21.38>, 'O': <Vector 2.94, -4.92, 21.83>}, {'residue': <Residue HOH het=W resseq=2001 icode= >, 'O': <Vector 8.74, -0.09, 15.74>}, {'residue': <Residue HOH het=W resseq=2002 icode= >, 'O': <Vector 8.82, 2.56, 15.31>}, {'residue': <Residue HOH het=W resseq=2003 icode= >, 'O': <Vector 0.40, -0.98, 24.57>}, {'residue': <Residue HOH het=W resseq=2004 icode= >, 'O': <Vector -2.06, -5.97, 14.80>}, {'residue': <Residue HOH het=W resseq=2005 icode= >, 'O': <Vector -0.23, -5.84, 24.62>}]\n"
     ]
    }
   ],
   "source": [
    "model = structure[0]\n",
    "main_chain_atoms = []\n",
    "for chain in model:\n",
    "    for residue in chain:\n",
    "        atom_dict = {}\n",
    "        atom_dict['residue'] = residue\n",
    "        for atom in residue.get_atoms():\n",
    "            if atom.get_name() in [\"N\",\"CA\", \"C\",\"O\"]:\n",
    "                atom_dict[atom.get_name()] = atom.get_vector()\n",
    "        main_chain_atoms.append(atom_dict)\n",
    "print(main_chain_atoms)\n",
    "    \n",
    "\n",
    "\n",
    "        "
   ]
  },
  {
   "cell_type": "code",
   "execution_count": 5,
   "metadata": {},
   "outputs": [
    {
     "name": "stdout",
     "output_type": "stream",
     "text": [
      "{}\n"
     ]
    }
   ],
   "source": [
    "from Bio.PDB.DSSP import dssp_dict_from_pdb_file\n",
    "dssp = dssp_dict_from_pdb_file(\"2v5f.pdb\")\n",
    "print(dssp[0])"
   ]
  },
  {
   "cell_type": "code",
   "execution_count": 6,
   "metadata": {},
   "outputs": [
    {
     "name": "stdout",
     "output_type": "stream",
     "text": [
      "DSSP 解析成功\n"
     ]
    }
   ],
   "source": [
    "from Bio.PDB import PDBParser\n",
    "from Bio.PDB.DSSP import DSSP\n",
    "\n",
    "try:\n",
    "    # 使用 PDBParser 解析 PDB 文件\n",
    "    parser = PDBParser(QUIET=True)\n",
    "    structure = parser.get_structure(\"PDB_structure\", '4uw6.pdb')\n",
    "\n",
    "    # 选择第一个模型\n",
    "    model = structure[0]\n",
    "\n",
    "    # 计算 DSSP\n",
    "    dssp = DSSP(model, '4uw6.pdb')\n",
    "    \n",
    "    # 如果成功，输出信息\n",
    "    print(\"DSSP 解析成功\")\n",
    "    \n",
    "    # 遍历 DSSP 输出并打印\n",
    "    for key in dssp.keys():\n",
    "        residue_info = dssp[key]\n",
    "        chain_id = key[0]\n",
    "        res_id = key[1]\n",
    "        sec_structure = residue_info[2]  # DSSP 计算的二级结构\n",
    "        print(f\"Chain: {chain_id}, Residue ID: {res_id}, Secondary Structure: {sec_structure}\")\n",
    "\n",
    "except Exception as e:\n",
    "    print(f\"Error occurred: {e}\")\n"
   ]
  },
  {
   "cell_type": "code",
   "execution_count": 7,
   "metadata": {},
   "outputs": [],
   "source": [
    "model = structure[0]\n",
    "dssp = DSSP(model,\"2v5f.pdb\")\n",
    "for key in dssp.keys():\n",
    "    residue_info = dssp[key]\n",
    "    chain_id = key[0]\n",
    "    res_id = key[1]\n",
    "    sec_structure = residue_info[2]  # DSSP 计算的二级结构\n",
    "    print(f\"Chain: {chain_id}, Residue ID: {res_id}, Secondary Structure: {sec_structure}\")\n"
   ]
  },
  {
   "cell_type": "code",
   "execution_count": 8,
   "metadata": {},
   "outputs": [],
   "source": [
    "for residue in dssp:\n",
    "    print(residue)"
   ]
  },
  {
   "cell_type": "code",
   "execution_count": 9,
   "metadata": {},
   "outputs": [],
   "source": [
    "for key in dssp:\n",
    "    residue_info = key[1:3]# 从 residue_info 中提取氨基酸类型和二级结构类型\n",
    "    aa = residue_info[0]  # 氨基酸类型\n",
    "    sec_struc = residue_info[1]  # 二级结构类型\n",
    "\n",
    "    print(f\"Residue {aa} is with secondary structure {sec_struc}\")\n",
    "\n"
   ]
  }
 ],
 "metadata": {
  "kernelspec": {
   "display_name": "projet",
   "language": "python",
   "name": "python3"
  },
  "language_info": {
   "codemirror_mode": {
    "name": "ipython",
    "version": 3
   },
   "file_extension": ".py",
   "mimetype": "text/x-python",
   "name": "python",
   "nbconvert_exporter": "python",
   "pygments_lexer": "ipython3",
   "version": "3.12.5"
  }
 },
 "nbformat": 4,
 "nbformat_minor": 2
}
