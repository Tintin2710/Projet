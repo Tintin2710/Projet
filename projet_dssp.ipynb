{
 "cells": [
  {
   "cell_type": "code",
   "execution_count": 1,
   "metadata": {},
   "outputs": [],
   "source": [
    "import math\n",
    "import numpy as np\n",
    "from Bio.PDB import PDBParser"
   ]
  },
  {
   "cell_type": "markdown",
   "metadata": {},
   "source": [
    "Lire la structure PDB et extraire les atomes de la chaîne principale (N, CA, C, O)"
   ]
  },
  {
   "cell_type": "code",
   "execution_count": 1,
   "metadata": {},
   "outputs": [],
   "source": [
    "class ReadPdbStructure:\n",
    "    \"\"\"RReprésenter et extraire les atomes de la chaîne principale (N, CA, C, O) dans la structure PDB.\"\"\"\n",
    "\n",
    "    def __init__(self, pdb_filename):\n",
    "        self.pdb_filename = pdb_filename\n",
    "        self.structure = self._read_pdb_structure()\n",
    "        self.get_main_chain_atomes = self._get_main_chain_atomes()\n",
    "\n",
    "    def _read_pdb_structure(self):\n",
    "        \"\"\"Lire le fichier PDB et renvoyer la structure\"\"\"\n",
    "        parser = PDBParser()\n",
    "        structure = parser.get_structure(\"protein\",self.pdb_filename)\n",
    "        return structure\n",
    "    \n",
    "    def _get_main_chain_atomes(self):\n",
    "        \"\"\"Extaire les coordonnées\"\"\"\n",
    "        main_chain_atoms = []\n",
    "        for model in self.structure:\n",
    "            for chain in model:\n",
    "                for residue in chain:\n",
    "                    atom_dict = {}\n",
    "                    \"\"\"Stocker le résidu actuel dans le dictionnaire\"\"\"\n",
    "                    atom_dict['residue'] = residue  \n",
    "                    for atom in residue.get_atoms():\n",
    "                        if atom.get_name() in [\"N\",\"CA\", \"C\", \"O\"]:\n",
    "                            atom_dict[atom.get_name()] = atom.get_vector()\n",
    "                    main_chain_atoms.append(atom_dict)\n",
    "        return main_chain_atoms\n",
    "    \n",
    "    def get_backbone_atoms(self):\n",
    "        \"\"\"Obtenir des informations atomiques sur la chaîne principale\"\"\"\n",
    "        return self.backbone_atoms\n",
    "    \n",
    "class HydrogenBondDetector:\n",
    "    \"\"\"Identifier les liaisons hydrogène en fonction de l'énergie\"\"\"\n",
    "\n",
    "    def __init__(self, main_chain_atoms):\n",
    "        self.main_chain_atoms = main_chain_atoms\n",
    "\n",
    "    def _calculate_hydrogen_bond_energy(self, donnor_residue, acceptor_residue):\n",
    "        \"\"\"Calculer l'énergie d'une liaison hydrogène à partir de l'équation énergétique\"\"\"\n",
    "\n",
    "        O = acceptor_residue['O']\n",
    "        N = donnor_residue[\"N\"]\n",
    "        \n",
    "\n",
    "\n",
    "\n",
    "\n",
    "\n",
    "        \n",
    "\n",
    "\n",
    "\n",
    "\n",
    "\n",
    "class SecondaryStructureAssigner:\n",
    "    \"\"\"Secondary Structure Dispenser, Détection de α-Helix et β-Folding basée sur la liaison hydrogène\"\"\"\n",
    "\n",
    " \n",
    "    \n",
    "\n",
    "    \n",
    "\n",
    "                            \n",
    "\n",
    "\n",
    "    \n",
    "\n",
    "\n",
    "    "
   ]
  }
 ],
 "metadata": {
  "kernelspec": {
   "display_name": "projet",
   "language": "python",
   "name": "python3"
  },
  "language_info": {
   "codemirror_mode": {
    "name": "ipython",
    "version": 3
   },
   "file_extension": ".py",
   "mimetype": "text/x-python",
   "name": "python",
   "nbconvert_exporter": "python",
   "pygments_lexer": "ipython3",
   "version": "3.12.5"
  }
 },
 "nbformat": 4,
 "nbformat_minor": 2
}
