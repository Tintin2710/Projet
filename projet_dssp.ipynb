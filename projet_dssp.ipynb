{
 "cells": [
  {
   "cell_type": "code",
   "execution_count": 1,
   "metadata": {},
   "outputs": [],
   "source": [
    "import math\n",
    "import numpy as np\n",
    "from Bio.PDB import PDBParser"
   ]
  },
  {
   "cell_type": "markdown",
   "metadata": {},
   "source": [
    "1. Lire la structure PDB et extraire les atomes de la chaîne principale (N, CA, C, O)"
   ]
  },
  {
   "cell_type": "code",
   "execution_count": 1,
   "metadata": {},
   "outputs": [],
   "source": [
    "class ReadPdbStructure:\n",
    "    \"\"\"RReprésenter et extraire les atomes de la chaîne principale (N, CA, C, O) dans la structure PDB.\"\"\"\n",
    "\n",
    "    def __init__(self, pdb_filename):\n",
    "        self.pdb_filename = pdb_filename\n",
    "        self.structure = self._read_pdb_structure()\n",
    "        self.get_main_chain_atomes = self._get_main_chain_atomes()\n",
    "\n",
    "    def _read_pdb_structure(self):\n",
    "        \"\"\"Lire le fichier PDB et renvoyer la structure\"\"\"\n",
    "        parser = PDBParser()\n",
    "        structure = parser.get_structure(\"protein\",self.pdb_filename)\n",
    "        return structure\n",
    "    \n",
    "    def _get_main_chain_atomes(self):\n",
    "        \"\"\"Extaire les coordonnées\"\"\"\n",
    "        main_chain_atoms = []\n",
    "        for model in self.structure:\n",
    "            for chain in model:\n",
    "                for residue in chain:\n",
    "                    atom_dict = {}\n",
    "                    \"\"\"Stocker le résidu actuel dans le dictionnaire\"\"\"\n",
    "                    atom_dict['residue'] = residue  \n",
    "                    for atom in residue.get_atoms():\n",
    "                        if atom.get_name() in [\"N\",\"CA\", \"C\", \"O\"]:\n",
    "                            atom_dict[atom.get_name()] = atom.get_vector()\n",
    "                    main_chain_atoms.append(atom_dict)\n",
    "        return main_chain_atoms\n",
    "    \n",
    "    def get_backbone_atoms(self):\n",
    "        \"\"\"Obtenir des informations atomiques sur la chaîne principale\"\"\"\n",
    "        return self.backbone_atoms\n",
    "        "
   ]
  },
  {
   "cell_type": "markdown",
   "metadata": {},
   "source": [
    "2. Calculer des hydrogènes "
   ]
  },
  {
   "cell_type": "code",
   "execution_count": 2,
   "metadata": {},
   "outputs": [],
   "source": [
    "class HydrogenBondDetector:\n",
    "    \"\"\"Identifier les liaisons hydrogène en fonction de l'énergie\"\"\"\n",
    "\n",
    "    def __init__(self, main_chain_atoms):\n",
    "        self.main_chain_atoms = main_chain_atoms\n",
    "    \n",
    "    def calculate_hydrogen_bonds(self):\n",
    "        num_residue = len(self.main_chain_atoms)\n",
    "        hbonds = []\n",
    "        for i in range(num_residue):\n",
    "            donor_residue = self.main_chain_atoms[i]\n",
    "            for j in range(i+1, num_residue):\n",
    "                acceptor_residue = self.main_chain_atoms[j]\n",
    "                # Calculate hydrogen bond energy\n",
    "                h_energy = self._calculate_hydrogen_bond_energy(donor_residue, acceptor_residue)\n",
    "\n",
    "                if h_energy < -0.5:\n",
    "                    hbonds.append((i,j))\n",
    "        return hbonds\n",
    "        \n",
    "\n",
    "    def _calculate_hydrogen_bond_energy(self, donor_residue, acceptor_residue):\n",
    "        \"\"\"Calculer l'énergie d'une liaison hydrogène à partir de l'équation énergétique\"\"\"\n",
    "        #Obtenir les coordonnées atomiques souhaitées\n",
    "        O = acceptor_residue['O']\n",
    "        N = donor_residue[\"N\"]\n",
    "        C = donor_residue[\"C\"]\n",
    "        #Calculer des distances entre les atoms\n",
    "        r_ON = (O - N).norm()\n",
    "        r_CN = (C -N).norm()\n",
    "        # Simplified energy calculation (hydrogen atoms are not used)\n",
    "        energy = 0.084 * (1/r_ON - 1/r_CN) * 332\n",
    "        \n",
    "        return energy\n",
    "    \n",
    "    \n",
    "\n"
   ]
  },
  {
   "cell_type": "markdown",
   "metadata": {},
   "source": [
    "3. Attribution des structures secondaires"
   ]
  },
  {
   "cell_type": "code",
   "execution_count": null,
   "metadata": {},
   "outputs": [],
   "source": [
    "class SecondaryStructureAssigner:\n",
    "    \"\"\"Secondary Structure Dispenser, Détection de α-Helix et β-Folding basée sur la liaison hydrogène\"\"\"\n",
    "\n",
    "    def __init__(self, main_chain_atoms, hbonds):\n",
    "        self.hbonds = hbonds\n",
    "        self.main_chain_atoms = main_chain_atoms\n",
    "\n",
    "    def assign_secondary_structure(self):\n",
    "        helice = set()\n",
    "        beta_sheet = set()\n",
    "\n",
    "        for i, j in self.hbonds:\n",
    "            #assign_secondary_structure\n",
    "            if abs(i - j) == 4:\n",
    "                helice.add(i)\n",
    "                helice.add(j)\n",
    "            elif abs(i - j) > 4:\n",
    "                pass\n",
    "            \n",
    "    def _is_parallel(self, donor, acceptor):\n",
    "        donor_chain = self.main_chain_atoms_atoms[donor]['residue'].get_parent().get_id()\n",
    "        acceptor_chain = self.main_chain_atoms_atoms[acceptor]['residue'].get_parent().get_id()\n",
    "        return donor_chain == acceptor_chain\n",
    "    \n",
    "    \n",
    "\n",
    "\n",
    " \n"
   ]
  }
 ],
 "metadata": {
  "kernelspec": {
   "display_name": "projet",
   "language": "python",
   "name": "python3"
  },
  "language_info": {
   "codemirror_mode": {
    "name": "ipython",
    "version": 3
   },
   "file_extension": ".py",
   "mimetype": "text/x-python",
   "name": "python",
   "nbconvert_exporter": "python",
   "pygments_lexer": "ipython3",
   "version": "3.12.5"
  }
 },
 "nbformat": 4,
 "nbformat_minor": 2
}
